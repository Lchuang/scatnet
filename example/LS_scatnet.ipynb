{
 "cells": [
  {
   "cell_type": "code",
   "execution_count": 4,
   "metadata": {},
   "outputs": [],
   "source": [
    "from obspy import read"
   ]
  },
  {
   "cell_type": "code",
   "execution_count": 7,
   "metadata": {},
   "outputs": [],
   "source": [
    "path_data = '../data/Kate_SCRdata/2016data_mseed/new_mseed/TW.BN.HH[ENZ].2016.061.mseed'"
   ]
  },
  {
   "cell_type": "code",
   "execution_count": 12,
   "metadata": {},
   "outputs": [],
   "source": [
    "st = read(path_data)"
   ]
  },
  {
   "cell_type": "code",
   "execution_count": 13,
   "metadata": {},
   "outputs": [
    {
     "data": {
      "text/plain": [
       "3 Trace(s) in Stream:\n",
       ".13445..6M0 | 2016-03-01T00:00:00.000000Z - 2016-03-01T23:59:59.950000Z | 20.0 Hz, 1728000 samples\n",
       ".13445..6M0 | 2016-03-01T00:00:00.000000Z - 2016-03-01T23:59:59.950000Z | 20.0 Hz, 1728000 samples\n",
       ".13445..6M0 | 2016-03-01T00:00:00.000000Z - 2016-03-01T23:59:59.950000Z | 20.0 Hz, 1728000 samples"
      ]
     },
     "execution_count": 13,
     "metadata": {},
     "output_type": "execute_result"
    }
   ],
   "source": [
    "st.decimate(5)"
   ]
  },
  {
   "cell_type": "code",
   "execution_count": 18,
   "metadata": {},
   "outputs": [],
   "source": [
    "! mkdir ../waveforms/20160302"
   ]
  },
  {
   "cell_type": "code",
   "execution_count": 19,
   "metadata": {},
   "outputs": [],
   "source": [
    "st[0].write('../waveforms/20160302/TW.BN.BHE.SAC',format='SAC')"
   ]
  },
  {
   "cell_type": "code",
   "execution_count": 20,
   "metadata": {},
   "outputs": [],
   "source": [
    "st[1].write('../waveforms/20160302/TW.BN.BHN.SAC',format='SAC')"
   ]
  },
  {
   "cell_type": "code",
   "execution_count": 21,
   "metadata": {},
   "outputs": [],
   "source": [
    "st[2].write('../waveforms/20160302/TW.BN.BHZ.SAC',format='SAC')"
   ]
  },
  {
   "cell_type": "code",
   "execution_count": null,
   "metadata": {},
   "outputs": [],
   "source": []
  }
 ],
 "metadata": {
  "kernelspec": {
   "display_name": "Python 3",
   "language": "python",
   "name": "python3"
  }
 },
 "nbformat": 4,
 "nbformat_minor": 4
}
